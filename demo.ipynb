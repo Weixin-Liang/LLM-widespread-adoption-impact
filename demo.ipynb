{
 "cells": [
  {
   "cell_type": "code",
   "execution_count": 1,
   "metadata": {},
   "outputs": [],
   "source": [
    "from src.estimation import estimate_text_distribution\n",
    "from src.MLE import MLE\n",
    "import os"
   ]
  },
  {
   "cell_type": "code",
   "execution_count": 2,
   "metadata": {},
   "outputs": [],
   "source": [
    "# for each subject, estimate the probability distribution of human-written text and AI-generated text\n",
    "estimate_text_distribution(f\"data/training_data/prnewswire/human_data.parquet\",f\"data/training_data/prnewswire/ai_data.parquet\",f\"distribution/prnewswire.parquet\")"
   ]
  },
  {
   "cell_type": "code",
   "execution_count": null,
   "metadata": {},
   "outputs": [],
   "source": [
    "# load the framework\n",
    "model=MLE(f\"distribution/prnewswire.parquet\")\n",
    "# iterate over the time\n",
    "for year in range(2022,2025):\n",
    "    for month in range(1,13):\n",
    "        if os.path.exists(f\"data/test_data/prnewswire/{year}_{month}.parquet\"):\n",
    "            estimated,ci=model.inference(f\"data/test_data/prnewswire/{year}_{month}.parquet\")\n",
    "            print(f\"{'Prediction':>10},{'CI':>10}\")\n",
    "            print(f\"{estimated:10.3f},{ci:10.3f}\")"
   ]
  },
  {
   "cell_type": "code",
   "execution_count": 3,
   "metadata": {},
   "outputs": [
    {
     "name": "stdout",
     "output_type": "stream",
     "text": [
      "Prediction,        CI\n",
      "     0.025,     0.002\n"
     ]
    }
   ],
   "source": [
    "# for demon propose, estimate on Jan 2022, the estimated alpha should lie in the false positive rate(i.e. 2-3%), should be completed within 1-2 minutes\n",
    "model=MLE(f\"distribution/prnewswire.parquet\")\n",
    "estimated,ci=model.inference(f\"data/test_data/prnewswire/2022_1.parquet\")\n",
    "print(f\"{'Prediction':>10},{'CI':>10}\")\n",
    "print(f\"{estimated:10.3f},{ci:10.3f}\")"
   ]
  },
  {
   "cell_type": "code",
   "execution_count": null,
   "metadata": {},
   "outputs": [],
   "source": []
  }
 ],
 "metadata": {
  "kernelspec": {
   "display_name": "crawler",
   "language": "python",
   "name": "python3"
  },
  "language_info": {
   "codemirror_mode": {
    "name": "ipython",
    "version": 3
   },
   "file_extension": ".py",
   "mimetype": "text/x-python",
   "name": "python",
   "nbconvert_exporter": "python",
   "pygments_lexer": "ipython3",
   "version": "3.9.19"
  }
 },
 "nbformat": 4,
 "nbformat_minor": 2
}
