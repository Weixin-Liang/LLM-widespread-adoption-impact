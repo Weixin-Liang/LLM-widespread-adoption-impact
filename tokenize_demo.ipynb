{
 "cells": [
  {
   "cell_type": "code",
   "execution_count": 1,
   "metadata": {},
   "outputs": [
    {
     "name": "stdout",
     "output_type": "stream",
     "text": [
      "Collecting en-core-web-lg==3.7.1\n",
      "  Downloading https://github.com/explosion/spacy-models/releases/download/en_core_web_lg-3.7.1/en_core_web_lg-3.7.1-py3-none-any.whl (587.7 MB)\n",
      "\u001b[2K     \u001b[90m━━━━━━━━━━━━━━━━━━━━━━━━━━━━━━━━━━━━━━\u001b[0m \u001b[32m587.7/587.7 MB\u001b[0m \u001b[31m20.5 MB/s\u001b[0m eta \u001b[36m0:00:00\u001b[0m00:01\u001b[0m00:01\u001b[0m\n",
      "\u001b[?25hRequirement already satisfied: spacy<3.8.0,>=3.7.2 in /opt/anaconda3/envs/NHB/lib/python3.9/site-packages (from en-core-web-lg==3.7.1) (3.7.2)\n",
      "Requirement already satisfied: spacy-legacy<3.1.0,>=3.0.11 in /opt/anaconda3/envs/NHB/lib/python3.9/site-packages (from spacy<3.8.0,>=3.7.2->en-core-web-lg==3.7.1) (3.0.12)\n",
      "Requirement already satisfied: spacy-loggers<2.0.0,>=1.0.0 in /opt/anaconda3/envs/NHB/lib/python3.9/site-packages (from spacy<3.8.0,>=3.7.2->en-core-web-lg==3.7.1) (1.0.4)\n",
      "Requirement already satisfied: murmurhash<1.1.0,>=0.28.0 in /opt/anaconda3/envs/NHB/lib/python3.9/site-packages (from spacy<3.8.0,>=3.7.2->en-core-web-lg==3.7.1) (1.0.7)\n",
      "Requirement already satisfied: cymem<2.1.0,>=2.0.2 in /opt/anaconda3/envs/NHB/lib/python3.9/site-packages (from spacy<3.8.0,>=3.7.2->en-core-web-lg==3.7.1) (2.0.6)\n",
      "Requirement already satisfied: preshed<3.1.0,>=3.0.2 in /opt/anaconda3/envs/NHB/lib/python3.9/site-packages (from spacy<3.8.0,>=3.7.2->en-core-web-lg==3.7.1) (3.0.6)\n",
      "Requirement already satisfied: thinc<8.3.0,>=8.1.8 in /opt/anaconda3/envs/NHB/lib/python3.9/site-packages (from spacy<3.8.0,>=3.7.2->en-core-web-lg==3.7.1) (8.2.2)\n",
      "Requirement already satisfied: wasabi<1.2.0,>=0.9.1 in /opt/anaconda3/envs/NHB/lib/python3.9/site-packages (from spacy<3.8.0,>=3.7.2->en-core-web-lg==3.7.1) (0.9.1)\n",
      "Requirement already satisfied: srsly<3.0.0,>=2.4.3 in /opt/anaconda3/envs/NHB/lib/python3.9/site-packages (from spacy<3.8.0,>=3.7.2->en-core-web-lg==3.7.1) (2.4.8)\n",
      "Requirement already satisfied: catalogue<2.1.0,>=2.0.6 in /opt/anaconda3/envs/NHB/lib/python3.9/site-packages (from spacy<3.8.0,>=3.7.2->en-core-web-lg==3.7.1) (2.0.10)\n",
      "Requirement already satisfied: weasel<0.4.0,>=0.1.0 in /opt/anaconda3/envs/NHB/lib/python3.9/site-packages (from spacy<3.8.0,>=3.7.2->en-core-web-lg==3.7.1) (0.3.4)\n",
      "Requirement already satisfied: typer<0.10.0,>=0.3.0 in /opt/anaconda3/envs/NHB/lib/python3.9/site-packages (from spacy<3.8.0,>=3.7.2->en-core-web-lg==3.7.1) (0.9.0)\n",
      "Requirement already satisfied: smart-open<7.0.0,>=5.2.1 in /opt/anaconda3/envs/NHB/lib/python3.9/site-packages (from spacy<3.8.0,>=3.7.2->en-core-web-lg==3.7.1) (5.2.1)\n",
      "Requirement already satisfied: tqdm<5.0.0,>=4.38.0 in /opt/anaconda3/envs/NHB/lib/python3.9/site-packages (from spacy<3.8.0,>=3.7.2->en-core-web-lg==3.7.1) (4.66.5)\n",
      "Requirement already satisfied: requests<3.0.0,>=2.13.0 in /opt/anaconda3/envs/NHB/lib/python3.9/site-packages (from spacy<3.8.0,>=3.7.2->en-core-web-lg==3.7.1) (2.32.3)\n",
      "Requirement already satisfied: pydantic!=1.8,!=1.8.1,<3.0.0,>=1.7.4 in /opt/anaconda3/envs/NHB/lib/python3.9/site-packages (from spacy<3.8.0,>=3.7.2->en-core-web-lg==3.7.1) (2.8.2)\n",
      "Requirement already satisfied: jinja2 in /opt/anaconda3/envs/NHB/lib/python3.9/site-packages (from spacy<3.8.0,>=3.7.2->en-core-web-lg==3.7.1) (3.1.4)\n",
      "Requirement already satisfied: setuptools in /opt/anaconda3/envs/NHB/lib/python3.9/site-packages (from spacy<3.8.0,>=3.7.2->en-core-web-lg==3.7.1) (75.1.0)\n",
      "Requirement already satisfied: packaging>=20.0 in /opt/anaconda3/envs/NHB/lib/python3.9/site-packages (from spacy<3.8.0,>=3.7.2->en-core-web-lg==3.7.1) (24.1)\n",
      "Requirement already satisfied: langcodes<4.0.0,>=3.2.0 in /opt/anaconda3/envs/NHB/lib/python3.9/site-packages (from spacy<3.8.0,>=3.7.2->en-core-web-lg==3.7.1) (3.3.0)\n",
      "Requirement already satisfied: numpy>=1.19.0 in /opt/anaconda3/envs/NHB/lib/python3.9/site-packages (from spacy<3.8.0,>=3.7.2->en-core-web-lg==3.7.1) (1.26.4)\n",
      "Requirement already satisfied: annotated-types>=0.4.0 in /opt/anaconda3/envs/NHB/lib/python3.9/site-packages (from pydantic!=1.8,!=1.8.1,<3.0.0,>=1.7.4->spacy<3.8.0,>=3.7.2->en-core-web-lg==3.7.1) (0.6.0)\n",
      "Requirement already satisfied: pydantic-core==2.20.1 in /opt/anaconda3/envs/NHB/lib/python3.9/site-packages (from pydantic!=1.8,!=1.8.1,<3.0.0,>=1.7.4->spacy<3.8.0,>=3.7.2->en-core-web-lg==3.7.1) (2.20.1)\n",
      "Requirement already satisfied: typing-extensions>=4.6.1 in /opt/anaconda3/envs/NHB/lib/python3.9/site-packages (from pydantic!=1.8,!=1.8.1,<3.0.0,>=1.7.4->spacy<3.8.0,>=3.7.2->en-core-web-lg==3.7.1) (4.11.0)\n",
      "Requirement already satisfied: charset-normalizer<4,>=2 in /opt/anaconda3/envs/NHB/lib/python3.9/site-packages (from requests<3.0.0,>=2.13.0->spacy<3.8.0,>=3.7.2->en-core-web-lg==3.7.1) (3.3.2)\n",
      "Requirement already satisfied: idna<4,>=2.5 in /opt/anaconda3/envs/NHB/lib/python3.9/site-packages (from requests<3.0.0,>=2.13.0->spacy<3.8.0,>=3.7.2->en-core-web-lg==3.7.1) (3.10)\n",
      "Requirement already satisfied: urllib3<3,>=1.21.1 in /opt/anaconda3/envs/NHB/lib/python3.9/site-packages (from requests<3.0.0,>=2.13.0->spacy<3.8.0,>=3.7.2->en-core-web-lg==3.7.1) (2.2.3)\n",
      "Requirement already satisfied: certifi>=2017.4.17 in /opt/anaconda3/envs/NHB/lib/python3.9/site-packages (from requests<3.0.0,>=2.13.0->spacy<3.8.0,>=3.7.2->en-core-web-lg==3.7.1) (2024.8.30)\n",
      "Requirement already satisfied: blis<0.8.0,>=0.7.8 in /opt/anaconda3/envs/NHB/lib/python3.9/site-packages (from thinc<8.3.0,>=8.1.8->spacy<3.8.0,>=3.7.2->en-core-web-lg==3.7.1) (0.7.9)\n",
      "Requirement already satisfied: confection<1.0.0,>=0.0.1 in /opt/anaconda3/envs/NHB/lib/python3.9/site-packages (from thinc<8.3.0,>=8.1.8->spacy<3.8.0,>=3.7.2->en-core-web-lg==3.7.1) (0.1.4)\n",
      "Requirement already satisfied: click<9.0.0,>=7.1.1 in /opt/anaconda3/envs/NHB/lib/python3.9/site-packages (from typer<0.10.0,>=0.3.0->spacy<3.8.0,>=3.7.2->en-core-web-lg==3.7.1) (8.1.7)\n",
      "Requirement already satisfied: cloudpathlib<0.17.0,>=0.7.0 in /opt/anaconda3/envs/NHB/lib/python3.9/site-packages (from weasel<0.4.0,>=0.1.0->spacy<3.8.0,>=3.7.2->en-core-web-lg==3.7.1) (0.16.0)\n",
      "Requirement already satisfied: MarkupSafe>=2.0 in /opt/anaconda3/envs/NHB/lib/python3.9/site-packages (from jinja2->spacy<3.8.0,>=3.7.2->en-core-web-lg==3.7.1) (2.1.3)\n",
      "\u001b[38;5;2m✔ Download and installation successful\u001b[0m\n",
      "You can now load the package via spacy.load('en_core_web_lg')\n"
     ]
    }
   ],
   "source": [
    "# install spacy's large english model\n",
    "! python -m spacy download en_core_web_lg"
   ]
  },
  {
   "cell_type": "code",
   "execution_count": 2,
   "metadata": {},
   "outputs": [],
   "source": [
    "import spacy\n",
    "import re\n",
    "nlp = spacy.load(\"en_core_web_lg\")\n",
    "def tokenize(text):\n",
    "    \"\"\"\n",
    "    Processes the input text, splits it into sentences, and further processes each sentence\n",
    "    to extract non-numeric words. It constructs a list of these words for each sentence.\n",
    "\n",
    "    Parameters:\n",
    "    text (str): A string containing multiple sentences.\n",
    "\n",
    "    Returns:\n",
    "    list: A list of lists, where each inner list contains the words from one sentence,\n",
    "          excluding any numeric strings.\n",
    "    \"\"\"\n",
    "    \n",
    "    \n",
    "    sentence_list=[]\n",
    "    # first split the sentence according to the newline characters\n",
    "    sentences = [sentence.strip() for sentence in text.split('\\n') if sentence.strip()]\n",
    "    for sentence in sentences:\n",
    "        doc=nlp(sentence)\n",
    "        for sent in doc.sents:\n",
    "            # Extract the words from the sentence\n",
    "            words = re.findall(r'\\b\\w+\\b', sent.text.lower())\n",
    "            # Remove any words that are numeric\n",
    "            pp=[word for word in words if not word.isdigit()]\n",
    "            # If the list is not empty, append the list of words to the sentence_list\n",
    "            if len(pp)!=0:\n",
    "                sentence_list.append(pp)\n",
    "    return sentence_list"
   ]
  },
  {
   "cell_type": "code",
   "execution_count": 3,
   "metadata": {},
   "outputs": [
    {
     "name": "stdout",
     "output_type": "stream",
     "text": [
      "[['qhr', 'health', 'a', 'leading', 'shared', 'service', 'solutions', 'provider', 'strengthening', 'independent', 'community', 'healthcare', 'celebrates', 'wilson', 'medical', 'center', 'chief', 'nursing', 'officer', 'heather', 'hyler', 'one', 'of', 'four', 'recipients', 'of', 'the', 'kansas', 'hospital', 'association', 's', 'healthcare', 'worker', 'of', 'the', 'year'], ['award', 'winners', 'are', 'honored', 'for', 'bettering', 'their', 'hospital', 'and', 'routinely', 'going', 'above', 'and', 'beyond', 'the', 'call', 'of', 'duty'], ['heather', 'hyler', 's', 'outstanding', 'example', 'of', 'nursing', 'leadership', 'in', 'her', 'work', 'with', 'recruitment', 'and', 'retention', 'ensures', 'patients', 'are', 'receiving', 'quality', 'care', 'in', 'the', 'local', 'community', 'said', 'shelley', 'riser', 'chief', 'clinical', 'officer', 'of', 'qhr', 'health', 'and', 'the', 'convenor', 'of', 'qhr', 'health', 'chief', 'nursing', 'officer', 'roundtable'], ['her', 'example', 'of', 'leading', 'through', 'the', 'covid', 'pandemic', 'while', 'understanding', 'and', 'employing', 'creative', 'ways', 'to', 'care', 'for', 'the', 'caregivers', 'is', 'a', 'true', 'attribute', 'to', 'the', 'nursing', 'profession'], ['heather', 's', 'success', 'in', 'updating', 'nurse', 'wages', 'has', 'increased', 'the', 'range', 'of', 'healthcare', 'experience', 'offered', 'at', 'wmc', 'enabling', 'critical', 'patients', 'to', 'stay', 'at', 'the', 'hospital', 'rather', 'than', 'transferring', 'to', 'higher', 'level', 'care', 'facilities'], ['she', 'also', 'has', 'led', 'the', 'hospital', 's', 'response', 'to', 'the', 'covid', 'pandemic', 'keeping', 'staff', 'updated', 'on', 'cdc', 'guidance', 'revising', 'protocols', 'preparing', 'community', 'safety', 'information', 'and', 'helping', 'to', 'make', 'vaccines', 'readily', 'available', 'to', 'the', 'community'], ['as', 'the', 'kansas', 'hospital', 'association', 'reported', 'heather', 'understood', 'the', 'toll', 'the', 'pandemic', 'was', 'taking', 'on', 'hospital', 'employees', 'and', 'she', 'brainstormed', 'ways', 'to', 'keep', 'staff', 'positive', 'and', 'engaged', 'through', 'a', 'who', 'am', 'i', 'employee', 'contest', 'and', 'a', 'weekly', 'rejuvenation', 'cart', 'filled', 'with', 'treats'], ['heather', 'was', 'a', 'member', 'of', 'the', 'first', 'graduating', 'class', 'of', 'qhr', 'health', 's', 'leadership', 'u', 'a', 'multi', 'month', 'educational', 'and', 'coaching', 'program', 'that', 'strengthens', 'the', 'leadership', 'capabilities', 'of', 'emerging', 'rural', 'healthcare', 'leaders', 'and', 'potential', 'hospital', 'ceo', 'candidates'], ['about', 'qhr', 'health', 'qhr', 'health', 'strengthens', 'independent', 'community', 'healthcare', 'as', 'the', 'industry', 's', 'leading', 'health', 'solutions', 'provider', 'serving', 'independent', 'critical', 'access', 'and', 'rural', 'hospitals', 'and', 'health', 'systems', 'across', 'the', 'u', 's', 'for', 'more', 'than', 'years', 'qhr', 'health', 'has', 'collaborated', 'with', 'clients', 'to', 'ensure', 'that', 'people', 'in', 'communities', 'ranging', 'from', 'small', 'rural', 'towns', 'to', 'larger', 'population', 'centers', 'have', 'local', 'access', 'to', 'quality', 'healthcare', 'services'], ['to', 'learn', 'more', 'visit', 'qhr', 'com', 'https', 'qhr', 'com', 'or', 'connect', 'with', 'us', 'on', 'linkedin', 'and', 'twitter']]\n"
     ]
    }
   ],
   "source": [
    "# demo\n",
    "text=\"\"\"\"QHR Health , a leading shared service solutions provider strengthening independent community healthcare, celebrates Wilson Medical Center Chief Nursing Officer Heather Hyler , one of four recipients of the Kansas Hospital Association\\'s Healthcare Worker of the Year. Award winners are honored for bettering their hospital and routinely going above and beyond the call of duty. \" Heather Hyler\\'s outstanding example of nursing leadership in her work with recruitment and retention ensures patients are receiving quality care in the local community,\" said Shelley Riser , Chief Clinical Officer of QHR Health and the convenor of QHR Health Chief Nursing Officer Roundtable. \"Her example of leading through the COVID-19 pandemic while understanding and employing creative ways to care for the caregivers is a true attribute to the nursing profession.\" Heather\\'s success in updating nurse wages has increased the range of healthcare experience offered at WMC, enabling critical patients to stay at the hospital rather than transferring to higher level care facilities. She also has led the hospital\\'s response to the COVID-19 pandemic, keeping staff updated on CDC guidance, revising protocols, preparing community safety information and helping to make vaccines readily available to the community. As the Kansas Hospital Association reported, \"Heather understood the toll the pandemic was taking on hospital employees, and she brainstormed ways to keep staff positive and engaged through a \\'Who Am I\\' employee contest and a weekly \\'Rejuvenation Cart\\' filled with treats. Heather was a member of the first graduating class of QHR Health\\'s Leadership U, a multi-month educational and coaching program that strengthens the leadership capabilities of emerging rural healthcare leaders and potential hospital CEO candidates. ABOUT QHR HEALTH QHR Health strengthens independent community healthcare as the industry\\'s leading health solutions provider serving independent, critical access and rural hospitals and health systems across the U.S. For more than 40 years, QHR Health has collaborated with clients to ensure that people in communities ranging from small rural towns to larger population centers, have local access to quality healthcare services.\\xa0To learn more, visit QHR.com ( https://qhr.com ) or connect with us on LinkedIn and Twitter . \"\"\"\n",
    "print(tokenize(text))"
   ]
  },
  {
   "cell_type": "code",
   "execution_count": null,
   "metadata": {},
   "outputs": [],
   "source": []
  }
 ],
 "metadata": {
  "kernelspec": {
   "display_name": "crawler",
   "language": "python",
   "name": "python3"
  },
  "language_info": {
   "codemirror_mode": {
    "name": "ipython",
    "version": 3
   },
   "file_extension": ".py",
   "mimetype": "text/x-python",
   "name": "python",
   "nbconvert_exporter": "python",
   "pygments_lexer": "ipython3",
   "version": "3.9.19"
  }
 },
 "nbformat": 4,
 "nbformat_minor": 2
}
